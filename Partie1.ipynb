{
 "cells": [
  {
   "cell_type": "code",
   "execution_count": 11,
   "metadata": {
    "collapsed": false
   },
   "outputs": [
    {
     "name": "stdout",
     "output_type": "stream",
     "text": [
      "(2, 5.1)\n"
     ]
    }
   ],
   "source": [
    "import math\n",
    "def getId(data):\n",
    "    res=[]\n",
    "    resObj=[]\n",
    "    for i in range(len(data[0])):\n",
    "        temp=data[0][i]\n",
    "        temp2=0\n",
    "        for j in range(1,len(data)):\n",
    "            if data[j][i]<temp:\n",
    "                temp=data[j][i]\n",
    "                temp2=j\n",
    "        res.append(temp)\n",
    "        resObj.append(temp2)\n",
    "    return res,resObj\n",
    "\n",
    "def getNad(data):\n",
    "    t,info=getId(data)\n",
    "    res=[]\n",
    "    for i in range(len(data[0])):\n",
    "        temp=data[info[0]][i]\n",
    "        for j in range (1,len(info)):\n",
    "            if temp<data[info[j]][i]:\n",
    "                temp=data[info[j]][i]\n",
    "        res.append(temp)\n",
    "    return res,t\n",
    "\n",
    "def tcheb(data,eps):\n",
    "    Nad,Id=getNad(data)\n",
    "    w=[]\n",
    "    for i in range(len(Id)):\n",
    "        w.append(abs(Nad[i]-Id[i]))\n",
    "    tempRes=100000\n",
    "    num=0\n",
    "    for i in range(len(data)):\n",
    "        temp=w[0]*abs(data[i][0]-Id[0])\n",
    "        som=temp\n",
    "        for j in range(1,len(data[0])):\n",
    "            som=som+w[j]*abs(data[i][j]-Id[j])\n",
    "            if temp<w[j]*abs(data[i][j]-Id[j]):\n",
    "                temp=w[j]*abs(data[i][j]-Id[j])\n",
    "        if tempRes>(temp+eps*som):\n",
    "            tempRes=(temp+eps*som)\n",
    "            num=i\n",
    "    return num\n",
    "\n",
    "def sat(data,num,decideur):\n",
    "    if decideur==0:\n",
    "        return True,0\n",
    "    else if decideur==1:\n",
    "        #TODO\n",
    "\n",
    "def methode(data,decideur,eps):\n",
    "    dataT=data\n",
    "    \n",
    "    num=tcheb(data,eps)\n",
    "    test,info=sat(data,num,decideur)\n",
    "    while(!test):\n",
    "        dataB=[]\n",
    "        for i in range(len(dataT)):\n",
    "            if dataT[i][info]<dataT[num][info]:\n",
    "                dataB.append(dataT[i])\n",
    "        dataT=dataB\n",
    "        num=tcheb(dataT,eps)\n",
    "        test,info=sat(dataT,num,decideur)\n",
    "    return dataT[num]\n",
    "\n",
    "def tchebToP(data,eps,vect):\n",
    "    Nad,Id=getNad(data)\n",
    "    Id=vect\n",
    "    w=[]\n",
    "    for i in range(len(Id)):\n",
    "        w.append(abs(Nad[i]-Id[i]))\n",
    "    tempRes=100000\n",
    "    num=0\n",
    "    for i in range(len(data)):\n",
    "        temp=w[0]*abs(data[i][0]-Id[0])\n",
    "        som=temp\n",
    "        for j in range(1,len(data[0])):\n",
    "            som=som+w[j]*abs(data[i][j]-Id[j])\n",
    "            if temp<w[j]*abs(data[i][j]-Id[j]):\n",
    "                temp=w[j]*abs(data[i][j]-Id[j])\n",
    "        if tempRes>(temp+eps*som):\n",
    "            tempRes=(temp+eps*som)\n",
    "            num=i\n",
    "    return num,data[num]\n",
    "\n",
    "data=[[1,2,3,4],[4,1,2,3],[3,4,1,2]]\n",
    "print (tcheb(data,0.1))\n"
   ]
  },
  {
   "cell_type": "code",
   "execution_count": 1,
   "metadata": {
    "collapsed": false
   },
   "outputs": [
    {
     "ename": "SyntaxError",
     "evalue": "invalid syntax (<ipython-input-1-77c937af54fc>, line 1)",
     "output_type": "error",
     "traceback": [
      "\u001b[1;36m  File \u001b[1;32m\"<ipython-input-1-77c937af54fc>\"\u001b[1;36m, line \u001b[1;32m1\u001b[0m\n\u001b[1;33m    print getId([[1,2,3,4],[4,1,2,3],[3,4,1,2]])\u001b[0m\n\u001b[1;37m              ^\u001b[0m\n\u001b[1;31mSyntaxError\u001b[0m\u001b[1;31m:\u001b[0m invalid syntax\n"
     ]
    }
   ],
   "source": []
  },
  {
   "cell_type": "code",
   "execution_count": null,
   "metadata": {
    "collapsed": true
   },
   "outputs": [],
   "source": []
  }
 ],
 "metadata": {
  "kernelspec": {
   "display_name": "Python 3",
   "language": "python",
   "name": "python3"
  },
  "language_info": {
   "codemirror_mode": {
    "name": "ipython",
    "version": 3
   },
   "file_extension": ".py",
   "mimetype": "text/x-python",
   "name": "python",
   "nbconvert_exporter": "python",
   "pygments_lexer": "ipython3",
   "version": "3.4.3"
  }
 },
 "nbformat": 4,
 "nbformat_minor": 0
}
